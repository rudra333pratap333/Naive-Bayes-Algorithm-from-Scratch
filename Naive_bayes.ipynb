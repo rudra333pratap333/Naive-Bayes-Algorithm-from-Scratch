{
 "cells": [
  {
   "cell_type": "code",
   "execution_count": 133,
   "metadata": {},
   "outputs": [],
   "source": [
    "import numpy as np\n",
    "from math import sqrt\n",
    "from matplotlib import pyplot as plt\n",
    "from matplotlib import style\n",
    "style.use('ggplot')"
   ]
  },
  {
   "cell_type": "code",
   "execution_count": 140,
   "metadata": {},
   "outputs": [],
   "source": [
    "dataset_ = [[3.3,2.3,0],\n",
    "        [3.1,1.7,0],\n",
    "        [1.3,3.3,0],\n",
    "        [3.5,4.6,0],\n",
    "        [2.2,2.8,0],\n",
    "        [7.4,4.6,1],\n",
    "        [5.7,3.5,1],\n",
    "        [9.1,2.5,1],\n",
    "        [7.7,3.4,1],\n",
    "        [7.9,0.7,1]]\n",
    "dataset_ = np.array(dataset_, dtype = 'float64')\n",
    "target_ = [int(i[-1]) for i in dataset_]\n",
    "target = [3.0, 2.8]"
   ]
  },
  {
   "cell_type": "code",
   "execution_count": 141,
   "metadata": {},
   "outputs": [
    {
     "data": {
      "text/plain": [
       "[<matplotlib.lines.Line2D at 0x7f4755778ac0>]"
      ]
     },
     "execution_count": 141,
     "metadata": {},
     "output_type": "execute_result"
    },
    {
     "data": {
      "image/png": "[encoded data removed]",
      "text/plain": [
       "<Figure size 432x288 with 1 Axes>"
      ]
     },
     "metadata": {},
     "output_type": "display_data"
    }
   ],
   "source": [
    "color = {0: 'r', 1:'g'}\n",
    "[plt.plot(i[0], i[1], '*', color = color[i[2]]) for i in dataset_]\n",
    "plt.plot(target[0], target[1], '*y') #taking target is of yellow colour"
   ]
  },
  {
   "cell_type": "code",
   "execution_count": 142,
   "metadata": {},
   "outputs": [],
   "source": [
    "import math\n",
    "from math import exp, pi\n",
    "from statistics import mean, stdev\n",
    "def std_dev(numbers):\n",
    "    n = len(numbers)\n",
    "    l = [mean(numbers)]*n\n",
    "    numbers = np.array(numbers)\n",
    "    l = np.array(l)\n",
    "    return sqrt((sum((numbers-l)**2))/n)"
   ]
  },
  {
   "cell_type": "code",
   "execution_count": 143,
   "metadata": {},
   "outputs": [],
   "source": [
    "def separate_by_class(data, target):\n",
    "    saparated = dict()\n",
    "    for i in range(len(data)):\n",
    "        vector = data[i]\n",
    "        if(target[i] not in saparated):\n",
    "            saparated[target[i]] = list()\n",
    "        saparated[target[i]].append(vector)\n",
    "    return saparated\n",
    "\n",
    "def summaries(data):\n",
    "    return [(mean(column), stdev(column)) for column in zip(*data)]\n",
    "\n",
    "def summarize_by_class(data, target_):\n",
    "    saparated = separate_by_class(data, target_)\n",
    "    summary = dict()\n",
    "    for class_val, rows in saparated.items():\n",
    "        summary[class_val] = summaries(rows)\n",
    "    return summary\n",
    "\n",
    "#gaussian probability function\n",
    "def probability(x, mean, std_dev):\n",
    "    exponant = exp(-((x-mean)**2)/(2*std_dev**2))\n",
    "    return (1/sqrt(2*pi)*std_dev) * exponant\n"
   ]
  },
  {
   "cell_type": "code",
   "execution_count": 144,
   "metadata": {
    "scrolled": true
   },
   "outputs": [
    {
     "data": {
      "text/plain": [
       "{0: [array([3.3, 2.3, 0. ]),\n",
       "  array([3.1, 1.7, 0. ]),\n",
       "  array([1.3, 3.3, 0. ]),\n",
       "  array([3.5, 4.6, 0. ]),\n",
       "  array([2.2, 2.8, 0. ])],\n",
       " 1: [array([7.4, 4.6, 1. ]),\n",
       "  array([5.7, 3.5, 1. ]),\n",
       "  array([9.1, 2.5, 1. ]),\n",
       "  array([7.7, 3.4, 1. ]),\n",
       "  array([7.9, 0.7, 1. ])]}"
      ]
     },
     "execution_count": 144,
     "metadata": {},
     "output_type": "execute_result"
    }
   ],
   "source": [
    "separated_data = separate_by_class(dataset_, target_)\n",
    "separated_data"
   ]
  },
  {
   "cell_type": "code",
   "execution_count": 146,
   "metadata": {},
   "outputs": [
    {
     "data": {
      "text/plain": [
       "{0: [(2.68, 0.9176055797563569), (2.94, 1.1013627921806692)],\n",
       " 1: [(7.5600000000000005, 1.2239281024635391), (2.94, 1.4570518178843195)]}"
      ]
     },
     "execution_count": 146,
     "metadata": {},
     "output_type": "execute_result"
    }
   ],
   "source": [
    "data_= [i[:-1] for i in dataset_]\n",
    "res = summarize_by_class(data_, target_)\n",
    "res"
   ]
  },
  {
   "cell_type": "code",
   "execution_count": 147,
   "metadata": {},
   "outputs": [],
   "source": [
    "def class_prob(data, target, target_):\n",
    "    summeries_ = summarize_by_class(data,target_)\n",
    "    probs = dict()\n",
    "    length = len(set(target))\n",
    "    for i in range(length):\n",
    "        probs[i] = 1/length\n",
    "    len_ = len(data[0])\n",
    "    for class_ in range(length):\n",
    "        for i in range(len_):\n",
    "            probs[class_]*=probability(target[i], summeries_[class_][i][0], summeries_[class_][i][1])\n",
    "    return probs  "
   ]
  },
  {
   "cell_type": "code",
   "execution_count": 162,
   "metadata": {},
   "outputs": [
    {
     "data": {
      "text/plain": [
       "([array([3.3, 2.3]),\n",
       "  array([3.1, 1.7]),\n",
       "  array([1.3, 3.3]),\n",
       "  array([3.5, 4.6]),\n",
       "  array([2.2, 2.8]),\n",
       "  array([7.4, 4.6]),\n",
       "  array([5.7, 3.5]),\n",
       "  array([9.1, 2.5]),\n",
       "  array([7.7, 3.4]),\n",
       "  array([7.9, 0.7])],\n",
       " [0, 0, 0, 0, 0, 1, 1, 1, 1, 1],\n",
       " [3.0, 2.8])"
      ]
     },
     "execution_count": 162,
     "metadata": {},
     "output_type": "execute_result"
    }
   ],
   "source": [
    "data_= [i[:-1] for i in dataset_]\n",
    "data_, target_, target"
   ]
  },
  {
   "cell_type": "code",
   "execution_count": 159,
   "metadata": {},
   "outputs": [
    {
     "name": "stdout",
     "output_type": "stream",
     "text": [
      "{0: 0.07506879584686553, 1: 0.00013671477168539727}\n"
     ]
    }
   ],
   "source": [
    "res = class_prob(data, target, target_)\n",
    "print(res)"
   ]
  },
  {
   "cell_type": "code",
   "execution_count": null,
   "metadata": {},
   "outputs": [],
   "source": [
    "#this result tells us about probability of that target in each class\n",
    "#we can conclude from here that the targrt must belong to class \"0\" because it has more probability than the others"
   ]
  },
  {
   "cell_type": "code",
   "execution_count": 174,
   "metadata": {},
   "outputs": [
    {
     "name": "stdout",
     "output_type": "stream",
     "text": [
      "class to which target data belongs is : 0\n"
     ]
    },
    {
     "data": {
      "text/plain": [
       "[<matplotlib.lines.Line2D at 0x7f475551e8b0>]"
      ]
     },
     "execution_count": 174,
     "metadata": {},
     "output_type": "execute_result"
    },
    {
     "data": {
      "image/png": "[encoded data removed]",
      "text/plain": [
       "<Figure size 432x288 with 1 Axes>"
      ]
     },
     "metadata": {},
     "output_type": "display_data"
    }
   ],
   "source": [
    "class_res = -1\n",
    "max_ = -1\n",
    "for i in res:\n",
    "    if(res[i] >max_):\n",
    "        class_res = i\n",
    "        max_ = res[i]\n",
    "print(f'class to which target data belongs is : {class_res}')\n",
    "\n",
    "[plt.plot(data_[i][0], data_[i][1], '*', color = color[target_[i]]) for i in range(len(data_))]\n",
    "plt.plot(target[0], target[1], 'o', color = color[class_res])"
   ]
  },
  {
   "cell_type": "code",
   "execution_count": null,
   "metadata": {},
   "outputs": [],
   "source": [
    "#target_data 'o' belongs to '0' class which is of red coloured and here it is also represented in graph by red 'o'."
   ]
  }
 ],
 "metadata": {
  "kernelspec": {
   "display_name": "Python 3",
   "language": "python",
   "name": "python3"
  },
  "language_info": {
   "codemirror_mode": {
    "name": "ipython",
    "version": 3
   },
   "file_extension": ".py",
   "mimetype": "text/x-python",
   "name": "python",
   "nbconvert_exporter": "python",
   "pygments_lexer": "ipython3",
   "version": "3.8.6"
  }
 },
 "nbformat": 4,
 "nbformat_minor": 4
}
